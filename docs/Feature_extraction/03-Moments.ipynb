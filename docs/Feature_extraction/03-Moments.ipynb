{
 "cells": [
  {
   "cell_type": "code",
   "execution_count": 1,
   "metadata": {},
   "outputs": [],
   "source": [
    "%matplotlib inline\n",
    "from IPython.display import HTML,Image,SVG,YouTubeVideo"
   ]
  },
  {
   "cell_type": "markdown",
   "metadata": {},
   "source": [
    "# Object moments\n",
    "We have seen that moments can be used to describe contours, similarily, the content of the shape can be described by this feature.\n",
    "\n",
    "\n",
    "* definition\n",
    "The definition in the continuous domain is as follow"
   ]
  },
  {
   "cell_type": "markdown",
   "metadata": {},
   "source": [
    "$$ m_{pq} = \\int_{-\\infty}^{+\\infty} \\int_{-\\infty}^{+\\infty} x^p y^q f(x,y)\\:dx\\:dy $$\n",
    "\n",
    "$$ \\mu_{pq} = \\int_{-\\infty}^{+\\infty} \\int_{-\\infty}^{+\\infty} (x-\\bar x)^p (y-\\bar y)^q f(x,y)\\:dx\\:dy $$\n",
    "\n",
    "$$ \\bar{x}=\\frac{m_{10}}{m_{00}},\\bar{y}=\\frac{m_{01}}{m_{00}} $$"
   ]
  },
  {
   "cell_type": "markdown",
   "metadata": {},
   "source": [
    "for a discrete domain, which is the case for image of pixels, we have"
   ]
  },
  {
   "cell_type": "markdown",
   "metadata": {},
   "source": [
    "$$ m_{pq} = \\sum_{x= -\\infty}^{+\\infty}\\sum_{y=-\\infty}^{+\\infty} x^p \\; y^q \\; f(x,y) $$\n",
    "\n",
    "to eliminate the influence of the absolute shape position, one define the centered moments $\\mu$\n",
    "\n",
    "$$ \\mu_{pq} = \\sum_{x= -\\infty}^{+\\infty}\\sum_{y=-\\infty}^{+\\infty} (x-\\bar x)^p \\; (y-\\bar y)^q \\; f(x,y) $$ \n",
    "\n",
    "to eliminate the influence of the scale, one define $\\eta$ as the normalized $\\mu$\n",
    "\n",
    "$$ \\eta_{pq} = \\frac{\\mu_{pq}}{\\mu_{00}^\\gamma} $$\n",
    "\n",
    "with \n",
    "\n",
    "$$ \\gamma = \\frac{p+q}{2} + 1 $$\n",
    "\n",
    "Up to here, $\\eta_{pq}$ are independent to translation and scale, by are still dependent to the rotation\n",
    "\n",
    "Hu defined invariants, called Hu's invariants, that combined $\\eta_{pq}$ having the rotation invariance property,\n",
    "\n",
    "$$  \n",
    "\\begin{align}\n",
    "I_1 =\\ & \\eta_{20} + \\eta_{02} \\\\\n",
    "I_2 =\\ & (\\eta_{20} - \\eta_{02})^2 + (2\\eta_{11})^2 \\\\\n",
    "I_3 =\\ & (\\eta_{30} - 3\\eta_{12})^2 + (3\\eta_{21} - \\eta_{03})^2 \\\\\n",
    "I_4 =\\ & (\\eta_{30} + \\eta_{12})^2 + (\\eta_{21} + \\eta_{03})^2 \\\\\n",
    "I_5 =\\ & (\\eta_{30} - 3\\eta_{12}) (\\eta_{30} + \\eta_{12})[ (\\eta_{30} + \\eta_{12})^2 - 3 (\\eta_{21} + \\eta_{03})^2] + \\\\\n",
    "\\ & (3\\eta_{21} - \\eta_{03}) (\\eta_{21} + \\eta_{03})[ 3(\\eta_{30} + \\eta_{12})^2 -  (\\eta_{21} + \\eta_{03})^2] \\\\\n",
    "I_6 =\\ & (\\eta_{20} - \\eta_{02})[(\\eta_{30} + \\eta_{12})^2 - (\\eta_{21} + \\eta_{03})^2] + 4\\eta_{11}(\\eta_{30} + \\eta_{12})(\\eta_{21} + \\eta_{03}) \\\\\n",
    "I_7 =\\ & (3\\eta_{21} - \\eta_{03})(\\eta_{30} + \\eta_{12})[(\\eta_{30} + \\eta_{12})^2 - 3(\\eta_{21} + \\eta_{03})^2] + \\\\\n",
    "\\ & (\\eta_{30} - 3\\eta_{12})(\\eta_{21} + \\eta_{03})[3(\\eta_{30} + \\eta_{12})^2 - (\\eta_{21} + \\eta_{03})^2].\n",
    "\\end{align}\n",
    "$$\n",
    "\n",
    "High order invariants can be very sensitive to noise, due to the high order exponent in the sum."
   ]
  },
  {
   "cell_type": "markdown",
   "metadata": {
    "collapsed": true
   },
   "source": [
    ">see also:\n",
    "* Moments **[DIP]** p514\n"
   ]
  },
  {
   "cell_type": "code",
   "execution_count": 2,
   "metadata": {},
   "outputs": [
    {
     "ename": "HTTPError",
     "evalue": "HTTP Error 404: Not Found",
     "output_type": "error",
     "traceback": [
      "\u001B[0;31m---------------------------------------------------------------------------\u001B[0m",
      "\u001B[0;31mHTTPError\u001B[0m                                 Traceback (most recent call last)",
      "Cell \u001B[0;32mIn [2], line 8\u001B[0m\n\u001B[1;32m      5\u001B[0m \u001B[38;5;28;01mfrom\u001B[39;00m \u001B[38;5;21;01mskimage\u001B[39;00m\u001B[38;5;21;01m.\u001B[39;00m\u001B[38;5;21;01mio\u001B[39;00m \u001B[38;5;28;01mimport\u001B[39;00m imread\n\u001B[1;32m      6\u001B[0m \u001B[38;5;28;01mfrom\u001B[39;00m \u001B[38;5;21;01mscipy\u001B[39;00m\u001B[38;5;21;01m.\u001B[39;00m\u001B[38;5;21;01mspatial\u001B[39;00m\u001B[38;5;21;01m.\u001B[39;00m\u001B[38;5;21;01mdistance\u001B[39;00m \u001B[38;5;28;01mimport\u001B[39;00m pdist,squareform\n\u001B[0;32m----> 8\u001B[0m ima \u001B[38;5;241m=\u001B[39m \u001B[43mimread\u001B[49m\u001B[43m(\u001B[49m\u001B[38;5;124;43m'\u001B[39;49m\u001B[38;5;124;43mhttp://homepages.ulb.ac.be/~odebeir/data/alphabet.png\u001B[39;49m\u001B[38;5;124;43m'\u001B[39;49m\u001B[43m)\u001B[49m[:,:,\u001B[38;5;241m0\u001B[39m]\u001B[38;5;241m==\u001B[39m\u001B[38;5;241m0\u001B[39m\n\u001B[1;32m      9\u001B[0m lab,nlab \u001B[38;5;241m=\u001B[39m label(ima,return_num\u001B[38;5;241m=\u001B[39m\u001B[38;5;28;01mTrue\u001B[39;00m)\n\u001B[1;32m     11\u001B[0m \u001B[38;5;66;03m# extract label features\u001B[39;00m\n",
      "File \u001B[0;32m~/Developpement/PycharmProjects/ImageAcquisition_Labs/venv/lib/python3.9/site-packages/skimage/io/_io.py:52\u001B[0m, in \u001B[0;36mimread\u001B[0;34m(fname, as_gray, plugin, **plugin_args)\u001B[0m\n\u001B[1;32m     49\u001B[0m     \u001B[38;5;28;01mif\u001B[39;00m fname\u001B[38;5;241m.\u001B[39mlower()\u001B[38;5;241m.\u001B[39mendswith((\u001B[38;5;124m'\u001B[39m\u001B[38;5;124m.tiff\u001B[39m\u001B[38;5;124m'\u001B[39m, \u001B[38;5;124m'\u001B[39m\u001B[38;5;124m.tif\u001B[39m\u001B[38;5;124m'\u001B[39m)):\n\u001B[1;32m     50\u001B[0m         plugin \u001B[38;5;241m=\u001B[39m \u001B[38;5;124m'\u001B[39m\u001B[38;5;124mtifffile\u001B[39m\u001B[38;5;124m'\u001B[39m\n\u001B[0;32m---> 52\u001B[0m \u001B[38;5;28;01mwith\u001B[39;00m file_or_url_context(fname) \u001B[38;5;28;01mas\u001B[39;00m fname:\n\u001B[1;32m     53\u001B[0m     img \u001B[38;5;241m=\u001B[39m call_plugin(\u001B[38;5;124m'\u001B[39m\u001B[38;5;124mimread\u001B[39m\u001B[38;5;124m'\u001B[39m, fname, plugin\u001B[38;5;241m=\u001B[39mplugin, \u001B[38;5;241m*\u001B[39m\u001B[38;5;241m*\u001B[39mplugin_args)\n\u001B[1;32m     55\u001B[0m \u001B[38;5;28;01mif\u001B[39;00m \u001B[38;5;129;01mnot\u001B[39;00m \u001B[38;5;28mhasattr\u001B[39m(img, \u001B[38;5;124m'\u001B[39m\u001B[38;5;124mndim\u001B[39m\u001B[38;5;124m'\u001B[39m):\n",
      "File \u001B[0;32m/usr/local/Cellar/python@3.9/3.9.12/Frameworks/Python.framework/Versions/3.9/lib/python3.9/contextlib.py:119\u001B[0m, in \u001B[0;36m_GeneratorContextManager.__enter__\u001B[0;34m(self)\u001B[0m\n\u001B[1;32m    117\u001B[0m \u001B[38;5;28;01mdel\u001B[39;00m \u001B[38;5;28mself\u001B[39m\u001B[38;5;241m.\u001B[39margs, \u001B[38;5;28mself\u001B[39m\u001B[38;5;241m.\u001B[39mkwds, \u001B[38;5;28mself\u001B[39m\u001B[38;5;241m.\u001B[39mfunc\n\u001B[1;32m    118\u001B[0m \u001B[38;5;28;01mtry\u001B[39;00m:\n\u001B[0;32m--> 119\u001B[0m     \u001B[38;5;28;01mreturn\u001B[39;00m \u001B[38;5;28;43mnext\u001B[39;49m\u001B[43m(\u001B[49m\u001B[38;5;28;43mself\u001B[39;49m\u001B[38;5;241;43m.\u001B[39;49m\u001B[43mgen\u001B[49m\u001B[43m)\u001B[49m\n\u001B[1;32m    120\u001B[0m \u001B[38;5;28;01mexcept\u001B[39;00m \u001B[38;5;167;01mStopIteration\u001B[39;00m:\n\u001B[1;32m    121\u001B[0m     \u001B[38;5;28;01mraise\u001B[39;00m \u001B[38;5;167;01mRuntimeError\u001B[39;00m(\u001B[38;5;124m\"\u001B[39m\u001B[38;5;124mgenerator didn\u001B[39m\u001B[38;5;124m'\u001B[39m\u001B[38;5;124mt yield\u001B[39m\u001B[38;5;124m\"\u001B[39m) \u001B[38;5;28;01mfrom\u001B[39;00m \u001B[38;5;28mNone\u001B[39m\n",
      "File \u001B[0;32m~/Developpement/PycharmProjects/ImageAcquisition_Labs/venv/lib/python3.9/site-packages/skimage/io/util.py:28\u001B[0m, in \u001B[0;36mfile_or_url_context\u001B[0;34m(resource_name)\u001B[0m\n\u001B[1;32m     26\u001B[0m \u001B[38;5;28;01mtry\u001B[39;00m:\n\u001B[1;32m     27\u001B[0m     \u001B[38;5;28;01mwith\u001B[39;00m tempfile\u001B[38;5;241m.\u001B[39mNamedTemporaryFile(delete\u001B[38;5;241m=\u001B[39m\u001B[38;5;28;01mFalse\u001B[39;00m, suffix\u001B[38;5;241m=\u001B[39mext) \u001B[38;5;28;01mas\u001B[39;00m f:\n\u001B[0;32m---> 28\u001B[0m         u \u001B[38;5;241m=\u001B[39m \u001B[43murllib\u001B[49m\u001B[38;5;241;43m.\u001B[39;49m\u001B[43mrequest\u001B[49m\u001B[38;5;241;43m.\u001B[39;49m\u001B[43murlopen\u001B[49m\u001B[43m(\u001B[49m\u001B[43mresource_name\u001B[49m\u001B[43m)\u001B[49m\n\u001B[1;32m     29\u001B[0m         f\u001B[38;5;241m.\u001B[39mwrite(u\u001B[38;5;241m.\u001B[39mread())\n\u001B[1;32m     30\u001B[0m     \u001B[38;5;66;03m# f must be closed before yielding\u001B[39;00m\n",
      "File \u001B[0;32m/usr/local/Cellar/python@3.9/3.9.12/Frameworks/Python.framework/Versions/3.9/lib/python3.9/urllib/request.py:214\u001B[0m, in \u001B[0;36murlopen\u001B[0;34m(url, data, timeout, cafile, capath, cadefault, context)\u001B[0m\n\u001B[1;32m    212\u001B[0m \u001B[38;5;28;01melse\u001B[39;00m:\n\u001B[1;32m    213\u001B[0m     opener \u001B[38;5;241m=\u001B[39m _opener\n\u001B[0;32m--> 214\u001B[0m \u001B[38;5;28;01mreturn\u001B[39;00m \u001B[43mopener\u001B[49m\u001B[38;5;241;43m.\u001B[39;49m\u001B[43mopen\u001B[49m\u001B[43m(\u001B[49m\u001B[43murl\u001B[49m\u001B[43m,\u001B[49m\u001B[43m \u001B[49m\u001B[43mdata\u001B[49m\u001B[43m,\u001B[49m\u001B[43m \u001B[49m\u001B[43mtimeout\u001B[49m\u001B[43m)\u001B[49m\n",
      "File \u001B[0;32m/usr/local/Cellar/python@3.9/3.9.12/Frameworks/Python.framework/Versions/3.9/lib/python3.9/urllib/request.py:523\u001B[0m, in \u001B[0;36mOpenerDirector.open\u001B[0;34m(self, fullurl, data, timeout)\u001B[0m\n\u001B[1;32m    521\u001B[0m \u001B[38;5;28;01mfor\u001B[39;00m processor \u001B[38;5;129;01min\u001B[39;00m \u001B[38;5;28mself\u001B[39m\u001B[38;5;241m.\u001B[39mprocess_response\u001B[38;5;241m.\u001B[39mget(protocol, []):\n\u001B[1;32m    522\u001B[0m     meth \u001B[38;5;241m=\u001B[39m \u001B[38;5;28mgetattr\u001B[39m(processor, meth_name)\n\u001B[0;32m--> 523\u001B[0m     response \u001B[38;5;241m=\u001B[39m \u001B[43mmeth\u001B[49m\u001B[43m(\u001B[49m\u001B[43mreq\u001B[49m\u001B[43m,\u001B[49m\u001B[43m \u001B[49m\u001B[43mresponse\u001B[49m\u001B[43m)\u001B[49m\n\u001B[1;32m    525\u001B[0m \u001B[38;5;28;01mreturn\u001B[39;00m response\n",
      "File \u001B[0;32m/usr/local/Cellar/python@3.9/3.9.12/Frameworks/Python.framework/Versions/3.9/lib/python3.9/urllib/request.py:632\u001B[0m, in \u001B[0;36mHTTPErrorProcessor.http_response\u001B[0;34m(self, request, response)\u001B[0m\n\u001B[1;32m    629\u001B[0m \u001B[38;5;66;03m# According to RFC 2616, \"2xx\" code indicates that the client's\u001B[39;00m\n\u001B[1;32m    630\u001B[0m \u001B[38;5;66;03m# request was successfully received, understood, and accepted.\u001B[39;00m\n\u001B[1;32m    631\u001B[0m \u001B[38;5;28;01mif\u001B[39;00m \u001B[38;5;129;01mnot\u001B[39;00m (\u001B[38;5;241m200\u001B[39m \u001B[38;5;241m<\u001B[39m\u001B[38;5;241m=\u001B[39m code \u001B[38;5;241m<\u001B[39m \u001B[38;5;241m300\u001B[39m):\n\u001B[0;32m--> 632\u001B[0m     response \u001B[38;5;241m=\u001B[39m \u001B[38;5;28;43mself\u001B[39;49m\u001B[38;5;241;43m.\u001B[39;49m\u001B[43mparent\u001B[49m\u001B[38;5;241;43m.\u001B[39;49m\u001B[43merror\u001B[49m\u001B[43m(\u001B[49m\n\u001B[1;32m    633\u001B[0m \u001B[43m        \u001B[49m\u001B[38;5;124;43m'\u001B[39;49m\u001B[38;5;124;43mhttp\u001B[39;49m\u001B[38;5;124;43m'\u001B[39;49m\u001B[43m,\u001B[49m\u001B[43m \u001B[49m\u001B[43mrequest\u001B[49m\u001B[43m,\u001B[49m\u001B[43m \u001B[49m\u001B[43mresponse\u001B[49m\u001B[43m,\u001B[49m\u001B[43m \u001B[49m\u001B[43mcode\u001B[49m\u001B[43m,\u001B[49m\u001B[43m \u001B[49m\u001B[43mmsg\u001B[49m\u001B[43m,\u001B[49m\u001B[43m \u001B[49m\u001B[43mhdrs\u001B[49m\u001B[43m)\u001B[49m\n\u001B[1;32m    635\u001B[0m \u001B[38;5;28;01mreturn\u001B[39;00m response\n",
      "File \u001B[0;32m/usr/local/Cellar/python@3.9/3.9.12/Frameworks/Python.framework/Versions/3.9/lib/python3.9/urllib/request.py:561\u001B[0m, in \u001B[0;36mOpenerDirector.error\u001B[0;34m(self, proto, *args)\u001B[0m\n\u001B[1;32m    559\u001B[0m \u001B[38;5;28;01mif\u001B[39;00m http_err:\n\u001B[1;32m    560\u001B[0m     args \u001B[38;5;241m=\u001B[39m (\u001B[38;5;28mdict\u001B[39m, \u001B[38;5;124m'\u001B[39m\u001B[38;5;124mdefault\u001B[39m\u001B[38;5;124m'\u001B[39m, \u001B[38;5;124m'\u001B[39m\u001B[38;5;124mhttp_error_default\u001B[39m\u001B[38;5;124m'\u001B[39m) \u001B[38;5;241m+\u001B[39m orig_args\n\u001B[0;32m--> 561\u001B[0m     \u001B[38;5;28;01mreturn\u001B[39;00m \u001B[38;5;28;43mself\u001B[39;49m\u001B[38;5;241;43m.\u001B[39;49m\u001B[43m_call_chain\u001B[49m\u001B[43m(\u001B[49m\u001B[38;5;241;43m*\u001B[39;49m\u001B[43margs\u001B[49m\u001B[43m)\u001B[49m\n",
      "File \u001B[0;32m/usr/local/Cellar/python@3.9/3.9.12/Frameworks/Python.framework/Versions/3.9/lib/python3.9/urllib/request.py:494\u001B[0m, in \u001B[0;36mOpenerDirector._call_chain\u001B[0;34m(self, chain, kind, meth_name, *args)\u001B[0m\n\u001B[1;32m    492\u001B[0m \u001B[38;5;28;01mfor\u001B[39;00m handler \u001B[38;5;129;01min\u001B[39;00m handlers:\n\u001B[1;32m    493\u001B[0m     func \u001B[38;5;241m=\u001B[39m \u001B[38;5;28mgetattr\u001B[39m(handler, meth_name)\n\u001B[0;32m--> 494\u001B[0m     result \u001B[38;5;241m=\u001B[39m \u001B[43mfunc\u001B[49m\u001B[43m(\u001B[49m\u001B[38;5;241;43m*\u001B[39;49m\u001B[43margs\u001B[49m\u001B[43m)\u001B[49m\n\u001B[1;32m    495\u001B[0m     \u001B[38;5;28;01mif\u001B[39;00m result \u001B[38;5;129;01mis\u001B[39;00m \u001B[38;5;129;01mnot\u001B[39;00m \u001B[38;5;28;01mNone\u001B[39;00m:\n\u001B[1;32m    496\u001B[0m         \u001B[38;5;28;01mreturn\u001B[39;00m result\n",
      "File \u001B[0;32m/usr/local/Cellar/python@3.9/3.9.12/Frameworks/Python.framework/Versions/3.9/lib/python3.9/urllib/request.py:641\u001B[0m, in \u001B[0;36mHTTPDefaultErrorHandler.http_error_default\u001B[0;34m(self, req, fp, code, msg, hdrs)\u001B[0m\n\u001B[1;32m    640\u001B[0m \u001B[38;5;28;01mdef\u001B[39;00m \u001B[38;5;21mhttp_error_default\u001B[39m(\u001B[38;5;28mself\u001B[39m, req, fp, code, msg, hdrs):\n\u001B[0;32m--> 641\u001B[0m     \u001B[38;5;28;01mraise\u001B[39;00m HTTPError(req\u001B[38;5;241m.\u001B[39mfull_url, code, msg, hdrs, fp)\n",
      "\u001B[0;31mHTTPError\u001B[0m: HTTP Error 404: Not Found"
     ]
    }
   ],
   "source": [
    "import numpy as np\n",
    "from skimage.morphology import disk, square\n",
    "import matplotlib.pyplot as plt\n",
    "from skimage.measure import label,regionprops\n",
    "from skimage.io import imread\n",
    "from scipy.spatial.distance import pdist,squareform\n",
    "\n",
    "ima = imread('http://homepages.ulb.ac.be/~odebeir/data/alphabet.png')[:,:,0]==0\n",
    "lab,nlab = label(ima,return_num=True)\n",
    "\n",
    "# extract label features\n",
    "props = regionprops(lab)\n",
    "\n",
    "hu = []\n",
    "for p in props:\n",
    "    hu.append(p.moments_hu)\n",
    "hu = np.asarray(hu)\n",
    "\n",
    "# normalize Hu's features\n",
    "mean_hu = np.mean(hu,axis=0)\n",
    "std_hu = np.std(hu,axis=0)\n",
    "norm_hu = (hu-mean_hu)/std_hu\n",
    "\n",
    "# compute pairwize distance based on normalized Hu's features\n",
    "dist = squareform(pdist(norm_hu))\n",
    "\n",
    "plt.figure(figsize=[10,10])\n",
    "plt.imshow(dist,interpolation='nearest');\n"
   ]
  },
  {
   "cell_type": "markdown",
   "metadata": {},
   "source": [
    "searching for nearest resembling object, using Hu's invariant features"
   ]
  },
  {
   "cell_type": "code",
   "execution_count": null,
   "metadata": {},
   "outputs": [],
   "source": [
    "idx = np.argsort(dist[1,:])\n",
    "plt.figure()\n",
    "for j,i in enumerate(idx[:16]):\n",
    "    bb = props[i].bbox\n",
    "    crop = ima[bb[0]:bb[2],bb[1]:bb[3]]\n",
    "    plt.subplot(4,4,j+1)\n",
    "    plt.imshow(crop)"
   ]
  },
  {
   "cell_type": "code",
   "execution_count": null,
   "metadata": {},
   "outputs": [],
   "source": []
  }
 ],
 "metadata": {
  "kernelspec": {
   "display_name": "Python 3",
   "language": "python",
   "name": "python3"
  },
  "language_info": {
   "codemirror_mode": {
    "name": "ipython",
    "version": 3
   },
   "file_extension": ".py",
   "mimetype": "text/x-python",
   "name": "python",
   "nbconvert_exporter": "python",
   "pygments_lexer": "ipython3",
   "version": "3.7.7"
  }
 },
 "nbformat": 4,
 "nbformat_minor": 1
}